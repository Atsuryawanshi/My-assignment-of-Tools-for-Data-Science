{
 "cells": [
  {
   "cell_type": "markdown",
   "id": "f9d8e612",
   "metadata": {},
   "source": [
    "<center>\n",
    "    <img src=\"https://s3-api.us-geo.objectstorage.softlayer.net/cf-courses-data/CognitiveClass/Logos/organization_logo/organization_logo.png\" width=\"300\" alt=\"cognitiveclass.ai logo\"  />\n",
    "</center>\n"
   ]
  },
  {
   "cell_type": "markdown",
   "id": "44b064f2",
   "metadata": {},
   "source": [
    "#### Add your code below following the instructions given in the course"
   ]
  },
  {
   "cell_type": "markdown",
   "id": "97564e07",
   "metadata": {},
   "source": [
    "# My Jupyter Notebook <a  href=\"https://cognitiveclass.ai/\"> Cognitive Class</a>"
   ]
  },
  {
   "cell_type": "markdown",
   "id": "9ac329ad",
   "metadata": {},
   "source": [
    "# My Jupyter Notebook on IBM Watson Studio"
   ]
  },
  {
   "cell_type": "markdown",
   "id": "84e230e9",
   "metadata": {},
   "source": [
    "**My Name is Atul Suryawanshi** \n",
    " \n",
    " Currently working as a software develper\n",
    "    "
   ]
  },
  {
   "cell_type": "markdown",
   "id": "d050d271",
   "metadata": {},
   "source": [
    "*I am interested in data science because I wanna change the world sees data in general*"
   ]
  },
  {
   "cell_type": "markdown",
   "id": "1d6dcfc1",
   "metadata": {},
   "source": [
    "### below programme prints the summation of two int which are given by user"
   ]
  },
  {
   "cell_type": "code",
   "execution_count": 8,
   "id": "db5f1802",
   "metadata": {},
   "outputs": [
    {
     "name": "stdout",
     "output_type": "stream",
     "text": [
      "enter n1\n",
      "5\n",
      "enter n2\n",
      "6\n",
      "summation is:\n",
      " 11\n"
     ]
    }
   ],
   "source": [
    "a=int(input(\"enter n1\\n\"))\n",
    "b=int(input(\"enter n2\\n\"))\n",
    "c=a+b\n",
    "print(\"summation is:\\n\",c)\n",
    "\n"
   ]
  },
  {
   "cell_type": "markdown",
   "id": "a33116e8",
   "metadata": {},
   "source": [
    "**horizontal rule**"
   ]
  },
  {
   "cell_type": "markdown",
   "id": "2d30e66f",
   "metadata": {},
   "source": [
    " hello \n",
    " - - - \n",
    "...world"
   ]
  },
  {
   "cell_type": "markdown",
   "id": "e3b37559",
   "metadata": {},
   "source": [
    "**bulleted list**"
   ]
  },
  {
   "cell_type": "markdown",
   "id": "fc21fec8",
   "metadata": {},
   "source": [
    "- this is 1\n",
    "- this is 2\n",
    "- this is 3"
   ]
  },
  {
   "cell_type": "markdown",
   "id": "f79281ba",
   "metadata": {},
   "source": [
    "**table**"
   ]
  },
  {
   "cell_type": "markdown",
   "id": "c07de314",
   "metadata": {},
   "source": [
    "| Syntax | Description |\n",
    "| ----------- | ----------- |\n",
    "| Header | Title |\n",
    "| Paragraph | Text |"
   ]
  },
  {
   "cell_type": "code",
   "execution_count": null,
   "id": "599ddcec",
   "metadata": {},
   "outputs": [],
   "source": []
  },
  {
   "cell_type": "code",
   "execution_count": null,
   "id": "5cd4b28d",
   "metadata": {},
   "outputs": [],
   "source": []
  }
 ],
 "metadata": {
  "kernelspec": {
   "display_name": "Python 3 (ipykernel)",
   "language": "python",
   "name": "python3"
  },
  "language_info": {
   "codemirror_mode": {
    "name": "ipython",
    "version": 3
   },
   "file_extension": ".py",
   "mimetype": "text/x-python",
   "name": "python",
   "nbconvert_exporter": "python",
   "pygments_lexer": "ipython3",
   "version": "3.9.7"
  }
 },
 "nbformat": 4,
 "nbformat_minor": 5
}
